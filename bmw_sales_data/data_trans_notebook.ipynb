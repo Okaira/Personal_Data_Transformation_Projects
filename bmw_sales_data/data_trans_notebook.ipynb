{
 "cells": [
  {
   "cell_type": "code",
   "execution_count": 1,
   "id": "3fdef35e",
   "metadata": {},
   "outputs": [],
   "source": [
    "import pandas as pd"
   ]
  },
  {
   "cell_type": "code",
   "execution_count": 2,
   "id": "0d80efd0",
   "metadata": {},
   "outputs": [],
   "source": [
    "df = pd.read_csv('C:/ProgramData/MySQL/MySQL Server 8.0/Uploads/fitness_sessions.csv')"
   ]
  },
  {
   "cell_type": "code",
   "execution_count": 4,
   "id": "cda743fa",
   "metadata": {},
   "outputs": [
    {
     "name": "stdout",
     "output_type": "stream",
     "text": [
      "['750000', 'male', '177', '81', '7', '87', '39.8', '30.45', '25.85', '0', 'medium', '1', '25', 'overweight']\n"
     ]
    }
   ],
   "source": [
    "print(df.columns.tolist())"
   ]
  },
  {
   "cell_type": "code",
   "execution_count": 5,
   "id": "ed5e1e52",
   "metadata": {},
   "outputs": [],
   "source": [
    "columns = [\n",
    "    'id', 'sex', 'height', 'weight', 'duration', 'heart_rate',\n",
    "    'body_temp', 'calories', 'bmi', 'heart_rate_flag',\n",
    "    'duration_bucket', 'temp_alert', 'effort_score', 'bmi_category'\n",
    "]"
   ]
  },
  {
   "cell_type": "code",
   "execution_count": 7,
   "id": "6d29da1f",
   "metadata": {},
   "outputs": [
    {
     "name": "stdout",
     "output_type": "stream",
     "text": [
      "['appx', 'bin', 'chrome_100_percent.pak', 'chrome_200_percent.pak', 'Code.exe', 'Code.VisualElementsManifest.xml', 'd3dcompiler_47.dll', 'ffmpeg.dll', 'icudtl.dat', 'libEGL.dll', 'libGLESv2.dll', 'LICENSES.chromium.html', 'locales', 'policies', 'resources', 'resources.pak', 'snapshot_blob.bin', 'tools', 'unins000.dat', 'unins000.exe', 'unins000.msg', 'v8_context_snapshot.bin', 'vk_swiftshader.dll', 'vk_swiftshader_icd.json', 'vulkan-1.dll']\n"
     ]
    }
   ],
   "source": [
    "import os\n",
    "print(os.listdir())"
   ]
  },
  {
   "cell_type": "code",
   "execution_count": 9,
   "id": "0af974f9",
   "metadata": {},
   "outputs": [
    {
     "data": {
      "text/html": [
       "<div>\n",
       "<style scoped>\n",
       "    .dataframe tbody tr th:only-of-type {\n",
       "        vertical-align: middle;\n",
       "    }\n",
       "\n",
       "    .dataframe tbody tr th {\n",
       "        vertical-align: top;\n",
       "    }\n",
       "\n",
       "    .dataframe thead th {\n",
       "        text-align: right;\n",
       "    }\n",
       "</style>\n",
       "<table border=\"1\" class=\"dataframe\">\n",
       "  <thead>\n",
       "    <tr style=\"text-align: right;\">\n",
       "      <th></th>\n",
       "      <th>id</th>\n",
       "      <th>sex</th>\n",
       "      <th>height</th>\n",
       "      <th>weight</th>\n",
       "      <th>duration</th>\n",
       "      <th>heart_rate</th>\n",
       "      <th>body_temp</th>\n",
       "      <th>calories</th>\n",
       "      <th>bmi</th>\n",
       "      <th>heart_rate_flag</th>\n",
       "      <th>duration_bucket</th>\n",
       "      <th>temp_alert</th>\n",
       "      <th>effort_score</th>\n",
       "      <th>bmi_category</th>\n",
       "    </tr>\n",
       "  </thead>\n",
       "  <tbody>\n",
       "    <tr>\n",
       "      <th>0</th>\n",
       "      <td>750000</td>\n",
       "      <td>male</td>\n",
       "      <td>177</td>\n",
       "      <td>81</td>\n",
       "      <td>7</td>\n",
       "      <td>87</td>\n",
       "      <td>39.8</td>\n",
       "      <td>30.45</td>\n",
       "      <td>25.85</td>\n",
       "      <td>0</td>\n",
       "      <td>Medium</td>\n",
       "      <td>1</td>\n",
       "      <td>25</td>\n",
       "      <td>Overweight</td>\n",
       "    </tr>\n",
       "    <tr>\n",
       "      <th>1</th>\n",
       "      <td>750001</td>\n",
       "      <td>male</td>\n",
       "      <td>200</td>\n",
       "      <td>97</td>\n",
       "      <td>20</td>\n",
       "      <td>101</td>\n",
       "      <td>40.5</td>\n",
       "      <td>101.00</td>\n",
       "      <td>24.25</td>\n",
       "      <td>0</td>\n",
       "      <td>Long</td>\n",
       "      <td>1</td>\n",
       "      <td>35</td>\n",
       "      <td>Normal</td>\n",
       "    </tr>\n",
       "    <tr>\n",
       "      <th>2</th>\n",
       "      <td>750002</td>\n",
       "      <td>female</td>\n",
       "      <td>188</td>\n",
       "      <td>85</td>\n",
       "      <td>16</td>\n",
       "      <td>102</td>\n",
       "      <td>40.4</td>\n",
       "      <td>81.60</td>\n",
       "      <td>24.05</td>\n",
       "      <td>0</td>\n",
       "      <td>Long</td>\n",
       "      <td>1</td>\n",
       "      <td>34</td>\n",
       "      <td>Normal</td>\n",
       "    </tr>\n",
       "    <tr>\n",
       "      <th>3</th>\n",
       "      <td>750003</td>\n",
       "      <td>female</td>\n",
       "      <td>172</td>\n",
       "      <td>73</td>\n",
       "      <td>20</td>\n",
       "      <td>107</td>\n",
       "      <td>40.6</td>\n",
       "      <td>107.00</td>\n",
       "      <td>24.68</td>\n",
       "      <td>0</td>\n",
       "      <td>Long</td>\n",
       "      <td>1</td>\n",
       "      <td>38</td>\n",
       "      <td>Normal</td>\n",
       "    </tr>\n",
       "    <tr>\n",
       "      <th>4</th>\n",
       "      <td>750004</td>\n",
       "      <td>female</td>\n",
       "      <td>173</td>\n",
       "      <td>67</td>\n",
       "      <td>16</td>\n",
       "      <td>94</td>\n",
       "      <td>40.5</td>\n",
       "      <td>75.20</td>\n",
       "      <td>22.39</td>\n",
       "      <td>0</td>\n",
       "      <td>Long</td>\n",
       "      <td>1</td>\n",
       "      <td>31</td>\n",
       "      <td>Normal</td>\n",
       "    </tr>\n",
       "  </tbody>\n",
       "</table>\n",
       "</div>"
      ],
      "text/plain": [
       "       id     sex  height  weight  duration  heart_rate  body_temp  calories  \\\n",
       "0  750000    male     177      81         7          87       39.8     30.45   \n",
       "1  750001    male     200      97        20         101       40.5    101.00   \n",
       "2  750002  female     188      85        16         102       40.4     81.60   \n",
       "3  750003  female     172      73        20         107       40.6    107.00   \n",
       "4  750004  female     173      67        16          94       40.5     75.20   \n",
       "\n",
       "     bmi  heart_rate_flag duration_bucket  temp_alert  effort_score  \\\n",
       "0  25.85                0          Medium           1            25   \n",
       "1  24.25                0            Long           1            35   \n",
       "2  24.05                0            Long           1            34   \n",
       "3  24.68                0            Long           1            38   \n",
       "4  22.39                0            Long           1            31   \n",
       "\n",
       "  bmi_category  \n",
       "0   Overweight  \n",
       "1       Normal  \n",
       "2       Normal  \n",
       "3       Normal  \n",
       "4       Normal  "
      ]
     },
     "execution_count": 9,
     "metadata": {},
     "output_type": "execute_result"
    }
   ],
   "source": [
    "df = pd.read_csv(\"C:/ProgramData/MySQL/MySQL Server 8.0/Uploads/fitness_sessions.csv\")\n",
    "df.head()\n"
   ]
  },
  {
   "cell_type": "code",
   "execution_count": 10,
   "id": "5c02f507",
   "metadata": {},
   "outputs": [],
   "source": [
    "def flag_heart_rate(df, threshold=100):\n",
    "    df['heart_rate_flag'] = (df['heart_rate'] > threshold).astype(int)\n",
    "    return df\n",
    "\n",
    "def bucket_duration(df):\n",
    "    df['duration_bucket'] = pd.cut(\n",
    "        df['duration'],\n",
    "        bins=[0, 10, 20, float('inf')],\n",
    "        labels=['Short', 'Medium', 'Long'],\n",
    "        right=False\n",
    "    )\n",
    "    return df\n",
    "\n",
    "def alert_temp(df, low=36.5, high=37.5):\n",
    "    df['temp_alert'] = ((df['body_temp'] < low) | (df['body_temp'] > high)).astype(int)\n",
    "    return df\n",
    "\n",
    "def compute_effort(df):\n",
    "    df['effort_score'] = (df['duration'] * df['heart_rate'] / 2 + df['calories'] / 4).round(0).astype(int)\n",
    "    return df\n",
    "\n",
    "def categorize_bmi(df):\n",
    "    df['bmi_category'] = pd.cut(\n",
    "        df['bmi'],\n",
    "        bins=[0, 18.5, 24.9, 29.9, float('inf')],\n",
    "        labels=['Underweight', 'Normal', 'Overweight', 'Obese'],\n",
    "        right=False\n",
    "    )\n",
    "    return df"
   ]
  },
  {
   "cell_type": "code",
   "execution_count": 11,
   "id": "1370d87d",
   "metadata": {},
   "outputs": [],
   "source": [
    "def transform_fitness_data(df):\n",
    "    df = flag_heart_rate(df)\n",
    "    df = bucket_duration(df)\n",
    "    df = alert_temp(df)\n",
    "    df = compute_effort(df)\n",
    "    df = categorize_bmi(df)\n",
    "    return df"
   ]
  },
  {
   "cell_type": "code",
   "execution_count": 12,
   "id": "6bf81abb",
   "metadata": {},
   "outputs": [
    {
     "data": {
      "text/html": [
       "<div>\n",
       "<style scoped>\n",
       "    .dataframe tbody tr th:only-of-type {\n",
       "        vertical-align: middle;\n",
       "    }\n",
       "\n",
       "    .dataframe tbody tr th {\n",
       "        vertical-align: top;\n",
       "    }\n",
       "\n",
       "    .dataframe thead th {\n",
       "        text-align: right;\n",
       "    }\n",
       "</style>\n",
       "<table border=\"1\" class=\"dataframe\">\n",
       "  <thead>\n",
       "    <tr style=\"text-align: right;\">\n",
       "      <th></th>\n",
       "      <th>id</th>\n",
       "      <th>sex</th>\n",
       "      <th>height</th>\n",
       "      <th>weight</th>\n",
       "      <th>duration</th>\n",
       "      <th>heart_rate</th>\n",
       "      <th>body_temp</th>\n",
       "      <th>calories</th>\n",
       "      <th>bmi</th>\n",
       "      <th>heart_rate_flag</th>\n",
       "      <th>duration_bucket</th>\n",
       "      <th>temp_alert</th>\n",
       "      <th>effort_score</th>\n",
       "      <th>bmi_category</th>\n",
       "    </tr>\n",
       "  </thead>\n",
       "  <tbody>\n",
       "    <tr>\n",
       "      <th>0</th>\n",
       "      <td>750000</td>\n",
       "      <td>male</td>\n",
       "      <td>177</td>\n",
       "      <td>81</td>\n",
       "      <td>7</td>\n",
       "      <td>87</td>\n",
       "      <td>39.8</td>\n",
       "      <td>30.45</td>\n",
       "      <td>25.85</td>\n",
       "      <td>0</td>\n",
       "      <td>Short</td>\n",
       "      <td>1</td>\n",
       "      <td>312</td>\n",
       "      <td>Overweight</td>\n",
       "    </tr>\n",
       "    <tr>\n",
       "      <th>1</th>\n",
       "      <td>750001</td>\n",
       "      <td>male</td>\n",
       "      <td>200</td>\n",
       "      <td>97</td>\n",
       "      <td>20</td>\n",
       "      <td>101</td>\n",
       "      <td>40.5</td>\n",
       "      <td>101.00</td>\n",
       "      <td>24.25</td>\n",
       "      <td>1</td>\n",
       "      <td>Long</td>\n",
       "      <td>1</td>\n",
       "      <td>1035</td>\n",
       "      <td>Normal</td>\n",
       "    </tr>\n",
       "    <tr>\n",
       "      <th>2</th>\n",
       "      <td>750002</td>\n",
       "      <td>female</td>\n",
       "      <td>188</td>\n",
       "      <td>85</td>\n",
       "      <td>16</td>\n",
       "      <td>102</td>\n",
       "      <td>40.4</td>\n",
       "      <td>81.60</td>\n",
       "      <td>24.05</td>\n",
       "      <td>1</td>\n",
       "      <td>Medium</td>\n",
       "      <td>1</td>\n",
       "      <td>836</td>\n",
       "      <td>Normal</td>\n",
       "    </tr>\n",
       "    <tr>\n",
       "      <th>3</th>\n",
       "      <td>750003</td>\n",
       "      <td>female</td>\n",
       "      <td>172</td>\n",
       "      <td>73</td>\n",
       "      <td>20</td>\n",
       "      <td>107</td>\n",
       "      <td>40.6</td>\n",
       "      <td>107.00</td>\n",
       "      <td>24.68</td>\n",
       "      <td>1</td>\n",
       "      <td>Long</td>\n",
       "      <td>1</td>\n",
       "      <td>1097</td>\n",
       "      <td>Normal</td>\n",
       "    </tr>\n",
       "    <tr>\n",
       "      <th>4</th>\n",
       "      <td>750004</td>\n",
       "      <td>female</td>\n",
       "      <td>173</td>\n",
       "      <td>67</td>\n",
       "      <td>16</td>\n",
       "      <td>94</td>\n",
       "      <td>40.5</td>\n",
       "      <td>75.20</td>\n",
       "      <td>22.39</td>\n",
       "      <td>0</td>\n",
       "      <td>Medium</td>\n",
       "      <td>1</td>\n",
       "      <td>771</td>\n",
       "      <td>Normal</td>\n",
       "    </tr>\n",
       "  </tbody>\n",
       "</table>\n",
       "</div>"
      ],
      "text/plain": [
       "       id     sex  height  weight  duration  heart_rate  body_temp  calories  \\\n",
       "0  750000    male     177      81         7          87       39.8     30.45   \n",
       "1  750001    male     200      97        20         101       40.5    101.00   \n",
       "2  750002  female     188      85        16         102       40.4     81.60   \n",
       "3  750003  female     172      73        20         107       40.6    107.00   \n",
       "4  750004  female     173      67        16          94       40.5     75.20   \n",
       "\n",
       "     bmi  heart_rate_flag duration_bucket  temp_alert  effort_score  \\\n",
       "0  25.85                0           Short           1           312   \n",
       "1  24.25                1            Long           1          1035   \n",
       "2  24.05                1          Medium           1           836   \n",
       "3  24.68                1            Long           1          1097   \n",
       "4  22.39                0          Medium           1           771   \n",
       "\n",
       "  bmi_category  \n",
       "0   Overweight  \n",
       "1       Normal  \n",
       "2       Normal  \n",
       "3       Normal  \n",
       "4       Normal  "
      ]
     },
     "execution_count": 12,
     "metadata": {},
     "output_type": "execute_result"
    }
   ],
   "source": [
    "df = pd.read_csv(\"C:/ProgramData/MySQL/MySQL Server 8.0/Uploads/fitness_sessions.csv\")\n",
    "df = transform_fitness_data(df)\n",
    "df.head()"
   ]
  },
  {
   "cell_type": "code",
   "execution_count": 13,
   "id": "aef64db0",
   "metadata": {},
   "outputs": [
    {
     "data": {
      "image/png": "[encoded data removed]",
      "text/plain": [
       "<Figure size 1200x800 with 6 Axes>"
      ]
     },
     "metadata": {},
     "output_type": "display_data"
    }
   ],
   "source": [
    "import matplotlib.pyplot as plt\n",
    "\n",
    "df[['duration', 'heart_rate', 'body_temp', 'calories', 'bmi', 'effort_score']].hist(\n",
    "    bins=20, figsize=(12, 8), color='skyblue', edgecolor='black'\n",
    ")\n",
    "plt.suptitle(\"Distribution of Numeric Features\", fontsize=16)\n",
    "plt.tight_layout()\n",
    "plt.show()"
   ]
  },
  {
   "cell_type": "code",
   "execution_count": 15,
   "id": "52f02371",
   "metadata": {},
   "outputs": [
    {
     "name": "stdout",
     "output_type": "stream",
     "text": [
      "Defaulting to user installation because normal site-packages is not writeable\n",
      "Requirement already satisfied: seaborn in c:\\users\\eguen\\appdata\\roaming\\python\\python312\\site-packages (0.13.2)\n",
      "Requirement already satisfied: numpy!=1.24.0,>=1.20 in c:\\users\\eguen\\appdata\\roaming\\python\\python312\\site-packages (from seaborn) (2.2.6)\n",
      "Requirement already satisfied: pandas>=1.2 in c:\\users\\eguen\\appdata\\roaming\\python\\python312\\site-packages (from seaborn) (2.3.1)\n",
      "Requirement already satisfied: matplotlib!=3.6.1,>=3.4 in c:\\users\\eguen\\appdata\\roaming\\python\\python312\\site-packages (from seaborn) (3.10.5)\n",
      "Requirement already satisfied: contourpy>=1.0.1 in c:\\users\\eguen\\appdata\\roaming\\python\\python312\\site-packages (from matplotlib!=3.6.1,>=3.4->seaborn) (1.3.3)\n",
      "Requirement already satisfied: cycler>=0.10 in c:\\users\\eguen\\appdata\\roaming\\python\\python312\\site-packages (from matplotlib!=3.6.1,>=3.4->seaborn) (0.12.1)\n",
      "Requirement already satisfied: fonttools>=4.22.0 in c:\\users\\eguen\\appdata\\roaming\\python\\python312\\site-packages (from matplotlib!=3.6.1,>=3.4->seaborn) (4.59.2)\n",
      "Requirement already satisfied: kiwisolver>=1.3.1 in c:\\users\\eguen\\appdata\\roaming\\python\\python312\\site-packages (from matplotlib!=3.6.1,>=3.4->seaborn) (1.4.9)\n",
      "Requirement already satisfied: packaging>=20.0 in c:\\users\\eguen\\appdata\\roaming\\python\\python312\\site-packages (from matplotlib!=3.6.1,>=3.4->seaborn) (24.2)\n",
      "Requirement already satisfied: pillow>=8 in c:\\users\\eguen\\appdata\\roaming\\python\\python312\\site-packages (from matplotlib!=3.6.1,>=3.4->seaborn) (11.3.0)\n",
      "Requirement already satisfied: pyparsing>=2.3.1 in c:\\users\\eguen\\appdata\\roaming\\python\\python312\\site-packages (from matplotlib!=3.6.1,>=3.4->seaborn) (3.2.3)\n",
      "Requirement already satisfied: python-dateutil>=2.7 in c:\\users\\eguen\\appdata\\roaming\\python\\python312\\site-packages (from matplotlib!=3.6.1,>=3.4->seaborn) (2.9.0.post0)\n",
      "Requirement already satisfied: pytz>=2020.1 in c:\\users\\eguen\\appdata\\roaming\\python\\python312\\site-packages (from pandas>=1.2->seaborn) (2025.2)\n",
      "Requirement already satisfied: tzdata>=2022.7 in c:\\users\\eguen\\appdata\\roaming\\python\\python312\\site-packages (from pandas>=1.2->seaborn) (2025.2)\n",
      "Requirement already satisfied: six>=1.5 in c:\\users\\eguen\\appdata\\roaming\\python\\python312\\site-packages (from python-dateutil>=2.7->matplotlib!=3.6.1,>=3.4->seaborn) (1.17.0)\n"
     ]
    },
    {
     "name": "stderr",
     "output_type": "stream",
     "text": [
      "\n",
      "[notice] A new release of pip is available: 25.1.1 -> 25.2\n",
      "[notice] To update, run: C:\\Program Files\\Python312\\python.exe -m pip install --upgrade pip\n"
     ]
    }
   ],
   "source": [
    "!pip install seaborn"
   ]
  },
  {
   "cell_type": "code",
   "execution_count": 18,
   "id": "e6d22053",
   "metadata": {},
   "outputs": [
    {
     "name": "stdout",
     "output_type": "stream",
     "text": [
      "Collecting seaborn\n",
      "  Using cached seaborn-0.13.2-py3-none-any.whl.metadata (5.4 kB)\n",
      "Requirement already satisfied: numpy!=1.24.0,>=1.20 in c:\\users\\eguen\\appdata\\local\\programs\\python\\python311\\lib\\site-packages (from seaborn) (2.1.0)\n",
      "Requirement already satisfied: pandas>=1.2 in c:\\users\\eguen\\appdata\\local\\programs\\python\\python311\\lib\\site-packages (from seaborn) (2.2.2)\n",
      "Requirement already satisfied: matplotlib!=3.6.1,>=3.4 in c:\\users\\eguen\\appdata\\local\\programs\\python\\python311\\lib\\site-packages (from seaborn) (3.10.5)\n",
      "Requirement already satisfied: contourpy>=1.0.1 in c:\\users\\eguen\\appdata\\local\\programs\\python\\python311\\lib\\site-packages (from matplotlib!=3.6.1,>=3.4->seaborn) (1.3.3)\n",
      "Requirement already satisfied: cycler>=0.10 in c:\\users\\eguen\\appdata\\local\\programs\\python\\python311\\lib\\site-packages (from matplotlib!=3.6.1,>=3.4->seaborn) (0.12.1)\n",
      "Requirement already satisfied: fonttools>=4.22.0 in c:\\users\\eguen\\appdata\\local\\programs\\python\\python311\\lib\\site-packages (from matplotlib!=3.6.1,>=3.4->seaborn) (4.59.1)\n",
      "Requirement already satisfied: kiwisolver>=1.3.1 in c:\\users\\eguen\\appdata\\local\\programs\\python\\python311\\lib\\site-packages (from matplotlib!=3.6.1,>=3.4->seaborn) (1.4.9)\n",
      "Requirement already satisfied: packaging>=20.0 in c:\\users\\eguen\\appdata\\local\\programs\\python\\python311\\lib\\site-packages (from matplotlib!=3.6.1,>=3.4->seaborn) (23.1)\n",
      "Requirement already satisfied: pillow>=8 in c:\\users\\eguen\\appdata\\local\\programs\\python\\python311\\lib\\site-packages (from matplotlib!=3.6.1,>=3.4->seaborn) (11.3.0)\n",
      "Requirement already satisfied: pyparsing>=2.3.1 in c:\\users\\eguen\\appdata\\local\\programs\\python\\python311\\lib\\site-packages (from matplotlib!=3.6.1,>=3.4->seaborn) (3.2.3)\n",
      "Requirement already satisfied: python-dateutil>=2.7 in c:\\users\\eguen\\appdata\\local\\programs\\python\\python311\\lib\\site-packages (from matplotlib!=3.6.1,>=3.4->seaborn) (2.8.2)\n",
      "Requirement already satisfied: pytz>=2020.1 in c:\\users\\eguen\\appdata\\local\\programs\\python\\python311\\lib\\site-packages (from pandas>=1.2->seaborn) (2024.1)\n",
      "Requirement already satisfied: tzdata>=2022.7 in c:\\users\\eguen\\appdata\\local\\programs\\python\\python311\\lib\\site-packages (from pandas>=1.2->seaborn) (2024.1)\n",
      "Requirement already satisfied: six>=1.5 in c:\\users\\eguen\\appdata\\local\\programs\\python\\python311\\lib\\site-packages (from python-dateutil>=2.7->matplotlib!=3.6.1,>=3.4->seaborn) (1.16.0)\n",
      "Using cached seaborn-0.13.2-py3-none-any.whl (294 kB)\n",
      "Installing collected packages: seaborn\n",
      "Successfully installed seaborn-0.13.2\n",
      "Note: you may need to restart the kernel to use updated packages.\n"
     ]
    },
    {
     "name": "stderr",
     "output_type": "stream",
     "text": [
      "\n",
      "[notice] A new release of pip is available: 24.2 -> 25.2\n",
      "[notice] To update, run: python.exe -m pip install --upgrade pip\n"
     ]
    }
   ],
   "source": [
    "pip install seaborn"
   ]
  }
 ],
 "metadata": {
  "kernelspec": {
   "display_name": "Python 3",
   "language": "python",
   "name": "python3"
  },
  "language_info": {
   "codemirror_mode": {
    "name": "ipython",
    "version": 3
   },
   "file_extension": ".py",
   "mimetype": "text/x-python",
   "name": "python",
   "nbconvert_exporter": "python",
   "pygments_lexer": "ipython3",
   "version": "3.11.4"
  }
 },
 "nbformat": 4,
 "nbformat_minor": 5
}
