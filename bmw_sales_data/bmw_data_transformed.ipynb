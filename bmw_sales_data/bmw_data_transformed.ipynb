{
 "cells": [
  {
   "cell_type": "code",
   "execution_count": 2,
   "id": "3b0b9859",
   "metadata": {},
   "outputs": [],
   "source": [
    "import pandas as pd \n",
    "\n",
    "df = pd.read_csv(\"C:/Users/eguen/OneDrive/Desktop/bmw_sales.csv\")"
   ]
  },
  {
   "cell_type": "code",
   "execution_count": 3,
   "id": "1a219834",
   "metadata": {},
   "outputs": [
    {
     "name": "stdout",
     "output_type": "stream",
     "text": [
      "(50000, 11)\n"
     ]
    }
   ],
   "source": [
    "print(df.shape)"
   ]
  },
  {
   "cell_type": "code",
   "execution_count": 4,
   "id": "c2a9b425",
   "metadata": {},
   "outputs": [
    {
     "name": "stdout",
     "output_type": "stream",
     "text": [
      "Model                    object\n",
      "Year                      int64\n",
      "Region                   object\n",
      "Color                    object\n",
      "Fuel_Type                object\n",
      "Transmission             object\n",
      "Engine_Size_L           float64\n",
      "Mileage_KM                int64\n",
      "Price_USD                 int64\n",
      "Sales_Volume              int64\n",
      "Sales_Classification     object\n",
      "dtype: object\n"
     ]
    }
   ],
   "source": [
    "print(df.dtypes)"
   ]
  },
  {
   "cell_type": "code",
   "execution_count": 5,
   "id": "e7026952",
   "metadata": {},
   "outputs": [
    {
     "name": "stdout",
     "output_type": "stream",
     "text": [
      "<bound method NDFrame.head of           Model  Year         Region   Color Fuel_Type Transmission  \\\n",
      "0      5 Series  2016           Asia     Red    Petrol       Manual   \n",
      "1            i8  2013  North America     Red    Hybrid    Automatic   \n",
      "2      5 Series  2022  North America    Blue    Petrol    Automatic   \n",
      "3            X3  2024    Middle East    Blue    Petrol    Automatic   \n",
      "4      7 Series  2020  South America   Black    Diesel       Manual   \n",
      "...         ...   ...            ...     ...       ...          ...   \n",
      "49995        i3  2014           Asia     Red    Hybrid       Manual   \n",
      "49996        i3  2023    Middle East  Silver  Electric       Manual   \n",
      "49997  5 Series  2010    Middle East     Red    Petrol    Automatic   \n",
      "49998        i3  2020           Asia   White  Electric    Automatic   \n",
      "49999        X1  2020  North America    Blue    Diesel       Manual   \n",
      "\n",
      "       Engine_Size_L  Mileage_KM  Price_USD  Sales_Volume Sales_Classification  \n",
      "0                3.5      151748      98740          8300                 High  \n",
      "1                1.6      121671      79219          3428                  Low  \n",
      "2                4.5       10991     113265          6994                  Low  \n",
      "3                1.7       27255      60971          4047                  Low  \n",
      "4                2.1      122131      49898          3080                  Low  \n",
      "...              ...         ...        ...           ...                  ...  \n",
      "49995            4.6      151030      42932          8182                 High  \n",
      "49996            4.2      147396      48714          9816                 High  \n",
      "49997            4.5      174939      46126          8280                 High  \n",
      "49998            3.8        3379      58566          9486                 High  \n",
      "49999            3.3      171003      77492          1764                  Low  \n",
      "\n",
      "[50000 rows x 11 columns]>\n"
     ]
    }
   ],
   "source": [
    "print(df.head)"
   ]
  },
  {
   "cell_type": "code",
   "execution_count": 6,
   "id": "281e2c8f",
   "metadata": {},
   "outputs": [],
   "source": [
    "# Strip whitespace and standardize column names\n",
    "df.columns = df.columns.str.strip().str.lower().str.replace('', '_')"
   ]
  },
  {
   "cell_type": "code",
   "execution_count": 8,
   "id": "6b670305",
   "metadata": {},
   "outputs": [
    {
     "name": "stdout",
     "output_type": "stream",
     "text": [
      "['_m_o_d_e_l_', '_y_e_a_r_', '_r_e_g_i_o_n_', '_c_o_l_o_r_', '_f_u_e_l___t_y_p_e_', '_t_r_a_n_s_m_i_s_s_i_o_n_', '_e_n_g_i_n_e___s_i_z_e___l_', '_m_i_l_e_a_g_e___k_m_', '_p_r_i_c_e___u_s_d_', '_s_a_l_e_s___v_o_l_u_m_e_', '_s_a_l_e_s___c_l_a_s_s_i_f_i_c_a_t_i_o_n_']\n"
     ]
    }
   ],
   "source": [
    "print(df.columns.tolist())"
   ]
  },
  {
   "cell_type": "code",
   "execution_count": 12,
   "id": "f7c0f803",
   "metadata": {},
   "outputs": [
    {
     "name": "stdout",
     "output_type": "stream",
     "text": [
      "['model', 'year', 'region', 'color', 'fueltype', 'transmission', 'enginesizel', 'mileagekm', 'priceusd', 'salesvolume', 'salesclassification']\n"
     ]
    }
   ],
   "source": [
    "df.columns = [col.replace(\"_\", \"\").lower() for col in df.columns]\n",
    "print(df.columns.tolist())"
   ]
  },
  {
   "cell_type": "code",
   "execution_count": 13,
   "id": "b02132d9",
   "metadata": {},
   "outputs": [],
   "source": [
    "from datetime import datetime\n",
    "df[\"vehicle_age\"] = datetime.now().year - df[\"year\"]"
   ]
  },
  {
   "cell_type": "code",
   "execution_count": 14,
   "id": "cbe62e3c",
   "metadata": {},
   "outputs": [],
   "source": [
    "df[\"price_per_km\"] = df[\"priceusd\"] / df[\"mileagekm\"]"
   ]
  },
  {
   "cell_type": "code",
   "execution_count": 15,
   "id": "b46ecfdf",
   "metadata": {},
   "outputs": [],
   "source": [
    "def categorize_engine(size):\n",
    "    if size < 1.5:\n",
    "        return \"small\"\n",
    "    elif size < 2.0:\n",
    "        return \"medium\"\n",
    "    else:\n",
    "        return \"large\"\n",
    "df[\"engine_category\"] = df[\"enginesizel\"].apply(categorize_engine)"
   ]
  },
  {
   "cell_type": "code",
   "execution_count": 16,
   "id": "95bb21b4",
   "metadata": {},
   "outputs": [],
   "source": [
    "df[\"is_automatic\"] = df[\"transmission\"].str.lower().str.contains(\"auto\").astype(int)"
   ]
  },
  {
   "cell_type": "code",
   "execution_count": 18,
   "id": "6c1a96fc",
   "metadata": {},
   "outputs": [],
   "source": [
    "def classify_sales(volume):\n",
    "    if volume > 1000:\n",
    "        return \"high\"\n",
    "    elif volume > 300:\n",
    "        return \"medium\"\n",
    "    else:\n",
    "        return \"low\"\n",
    "\n",
    "df[\"sales_intensity\"] = df[\"salesvolume\"].apply(classify_sales)"
   ]
  },
  {
   "cell_type": "code",
   "execution_count": 19,
   "id": "f10d7061",
   "metadata": {},
   "outputs": [
    {
     "data": {
      "text/html": [
       "<div>\n",
       "<style scoped>\n",
       "    .dataframe tbody tr th:only-of-type {\n",
       "        vertical-align: middle;\n",
       "    }\n",
       "\n",
       "    .dataframe tbody tr th {\n",
       "        vertical-align: top;\n",
       "    }\n",
       "\n",
       "    .dataframe thead th {\n",
       "        text-align: right;\n",
       "    }\n",
       "</style>\n",
       "<table border=\"1\" class=\"dataframe\">\n",
       "  <thead>\n",
       "    <tr style=\"text-align: right;\">\n",
       "      <th></th>\n",
       "      <th>model</th>\n",
       "      <th>year</th>\n",
       "      <th>vehicle_age</th>\n",
       "      <th>priceusd</th>\n",
       "      <th>mileagekm</th>\n",
       "      <th>price_per_km</th>\n",
       "      <th>enginesizel</th>\n",
       "      <th>engine_category</th>\n",
       "      <th>transmission</th>\n",
       "      <th>is_automatic</th>\n",
       "      <th>salesvolume</th>\n",
       "      <th>sales_intensity</th>\n",
       "    </tr>\n",
       "  </thead>\n",
       "  <tbody>\n",
       "    <tr>\n",
       "      <th>0</th>\n",
       "      <td>5 Series</td>\n",
       "      <td>2016</td>\n",
       "      <td>9</td>\n",
       "      <td>98740</td>\n",
       "      <td>151748</td>\n",
       "      <td>0.650684</td>\n",
       "      <td>3.5</td>\n",
       "      <td>large</td>\n",
       "      <td>Manual</td>\n",
       "      <td>0</td>\n",
       "      <td>8300</td>\n",
       "      <td>high</td>\n",
       "    </tr>\n",
       "    <tr>\n",
       "      <th>1</th>\n",
       "      <td>i8</td>\n",
       "      <td>2013</td>\n",
       "      <td>12</td>\n",
       "      <td>79219</td>\n",
       "      <td>121671</td>\n",
       "      <td>0.651092</td>\n",
       "      <td>1.6</td>\n",
       "      <td>medium</td>\n",
       "      <td>Automatic</td>\n",
       "      <td>1</td>\n",
       "      <td>3428</td>\n",
       "      <td>high</td>\n",
       "    </tr>\n",
       "    <tr>\n",
       "      <th>2</th>\n",
       "      <td>5 Series</td>\n",
       "      <td>2022</td>\n",
       "      <td>3</td>\n",
       "      <td>113265</td>\n",
       "      <td>10991</td>\n",
       "      <td>10.305250</td>\n",
       "      <td>4.5</td>\n",
       "      <td>large</td>\n",
       "      <td>Automatic</td>\n",
       "      <td>1</td>\n",
       "      <td>6994</td>\n",
       "      <td>high</td>\n",
       "    </tr>\n",
       "    <tr>\n",
       "      <th>3</th>\n",
       "      <td>X3</td>\n",
       "      <td>2024</td>\n",
       "      <td>1</td>\n",
       "      <td>60971</td>\n",
       "      <td>27255</td>\n",
       "      <td>2.237057</td>\n",
       "      <td>1.7</td>\n",
       "      <td>medium</td>\n",
       "      <td>Automatic</td>\n",
       "      <td>1</td>\n",
       "      <td>4047</td>\n",
       "      <td>high</td>\n",
       "    </tr>\n",
       "    <tr>\n",
       "      <th>4</th>\n",
       "      <td>7 Series</td>\n",
       "      <td>2020</td>\n",
       "      <td>5</td>\n",
       "      <td>49898</td>\n",
       "      <td>122131</td>\n",
       "      <td>0.408561</td>\n",
       "      <td>2.1</td>\n",
       "      <td>large</td>\n",
       "      <td>Manual</td>\n",
       "      <td>0</td>\n",
       "      <td>3080</td>\n",
       "      <td>high</td>\n",
       "    </tr>\n",
       "  </tbody>\n",
       "</table>\n",
       "</div>"
      ],
      "text/plain": [
       "      model  year  vehicle_age  priceusd  mileagekm  price_per_km  \\\n",
       "0  5 Series  2016            9     98740     151748      0.650684   \n",
       "1        i8  2013           12     79219     121671      0.651092   \n",
       "2  5 Series  2022            3    113265      10991     10.305250   \n",
       "3        X3  2024            1     60971      27255      2.237057   \n",
       "4  7 Series  2020            5     49898     122131      0.408561   \n",
       "\n",
       "   enginesizel engine_category transmission  is_automatic  salesvolume  \\\n",
       "0          3.5           large       Manual             0         8300   \n",
       "1          1.6          medium    Automatic             1         3428   \n",
       "2          4.5           large    Automatic             1         6994   \n",
       "3          1.7          medium    Automatic             1         4047   \n",
       "4          2.1           large       Manual             0         3080   \n",
       "\n",
       "  sales_intensity  \n",
       "0            high  \n",
       "1            high  \n",
       "2            high  \n",
       "3            high  \n",
       "4            high  "
      ]
     },
     "execution_count": 19,
     "metadata": {},
     "output_type": "execute_result"
    }
   ],
   "source": [
    "df  [[\n",
    "    \"model\", \"year\", \"vehicle_age\", \"priceusd\", \"mileagekm\", \"price_per_km\", \"enginesizel\", \"engine_category\", \"transmission\", \"is_automatic\", \"salesvolume\", \"sales_intensity\"\n",
    "\n",
    "]].head()"
   ]
  },
  {
   "cell_type": "code",
   "execution_count": 20,
   "id": "22d36cf7",
   "metadata": {},
   "outputs": [],
   "source": [
    "df.rename(columns={\n",
    "    \"fueltype\": \"fuel_type\",\n",
    "    \"enginesizel\": \"engine_size_l\",\n",
    "    \"mileagekm\": \"mileage_km\",\n",
    "    \"priceusd\": \"price_usd\",\n",
    "    \"salesvolume\": \"sales_volume\",\n",
    "    \"salesclassification\": \"sales_classification\"\n",
    "}, inplace=True)"
   ]
  },
  {
   "cell_type": "code",
   "execution_count": 21,
   "id": "cb1fc1b3",
   "metadata": {},
   "outputs": [],
   "source": [
    "df.to_csv(\"bmw_sales_transformed.csv\", index=False)"
   ]
  },
  {
   "cell_type": "code",
   "execution_count": null,
   "id": "88e8831f",
   "metadata": {},
   "outputs": [],
   "source": []
  }
 ],
 "metadata": {
  "kernelspec": {
   "display_name": "Python 3",
   "language": "python",
   "name": "python3"
  },
  "language_info": {
   "codemirror_mode": {
    "name": "ipython",
    "version": 3
   },
   "file_extension": ".py",
   "mimetype": "text/x-python",
   "name": "python",
   "nbconvert_exporter": "python",
   "pygments_lexer": "ipython3",
   "version": "3.11.4"
  }
 },
 "nbformat": 4,
 "nbformat_minor": 5
}
