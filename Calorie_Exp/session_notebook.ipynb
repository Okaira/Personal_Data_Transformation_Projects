{
 "cells": [
  {
   "cell_type": "code",
   "execution_count": 1,
   "id": "ba0a20de",
   "metadata": {},
   "outputs": [],
   "source": [
    "import pandas as pd \n",
    "\n",
    "# Example DataFrame\n",
    "\n",
    "df = pd.DataFrame({\n",
    "    'session_id': [1, 2, 3, 4, 5],\n",
    "    'duration_minutes':[10, 25, 50, 70, 5]  \n",
    "})\n",
    "\n",
    "# Define bucket edges and labels\n",
    "\n",
    "bins = [0, 15, 45, 90, float('inf')]\n",
    "labels = ['short', 'medium', 'long', 'very long']\n",
    "\n",
    "# Create the bucketed feature\n",
    "\n",
    "df['duration_bucket'] = pd.cut(df['duration_minutes'], bins=bins, labels=labels, right=False)"
   ]
  },
  {
   "cell_type": "code",
   "execution_count": 2,
   "id": "28046c26",
   "metadata": {},
   "outputs": [
    {
     "name": "stdout",
     "output_type": "stream",
     "text": [
      "   session_id  duration_minutes duration_bucket\n",
      "0           1                10           short\n",
      "1           2                25          medium\n",
      "2           3                50            long\n",
      "3           4                70            long\n",
      "4           5                 5           short\n"
     ]
    }
   ],
   "source": [
    "print(df)"
   ]
  },
  {
   "cell_type": "code",
   "execution_count": 3,
   "id": "3e00b397",
   "metadata": {},
   "outputs": [
    {
     "data": {
      "text/html": [
       "<div>\n",
       "<style scoped>\n",
       "    .dataframe tbody tr th:only-of-type {\n",
       "        vertical-align: middle;\n",
       "    }\n",
       "\n",
       "    .dataframe tbody tr th {\n",
       "        vertical-align: top;\n",
       "    }\n",
       "\n",
       "    .dataframe thead th {\n",
       "        text-align: right;\n",
       "    }\n",
       "</style>\n",
       "<table border=\"1\" class=\"dataframe\">\n",
       "  <thead>\n",
       "    <tr style=\"text-align: right;\">\n",
       "      <th></th>\n",
       "      <th>session_id</th>\n",
       "      <th>duration_minutes</th>\n",
       "      <th>duration_bucket</th>\n",
       "    </tr>\n",
       "  </thead>\n",
       "  <tbody>\n",
       "    <tr>\n",
       "      <th>0</th>\n",
       "      <td>1</td>\n",
       "      <td>10</td>\n",
       "      <td>short</td>\n",
       "    </tr>\n",
       "    <tr>\n",
       "      <th>1</th>\n",
       "      <td>2</td>\n",
       "      <td>25</td>\n",
       "      <td>medium</td>\n",
       "    </tr>\n",
       "    <tr>\n",
       "      <th>2</th>\n",
       "      <td>3</td>\n",
       "      <td>50</td>\n",
       "      <td>long</td>\n",
       "    </tr>\n",
       "    <tr>\n",
       "      <th>3</th>\n",
       "      <td>4</td>\n",
       "      <td>70</td>\n",
       "      <td>long</td>\n",
       "    </tr>\n",
       "    <tr>\n",
       "      <th>4</th>\n",
       "      <td>5</td>\n",
       "      <td>5</td>\n",
       "      <td>short</td>\n",
       "    </tr>\n",
       "  </tbody>\n",
       "</table>\n",
       "</div>"
      ],
      "text/plain": [
       "   session_id  duration_minutes duration_bucket\n",
       "0           1                10           short\n",
       "1           2                25          medium\n",
       "2           3                50            long\n",
       "3           4                70            long\n",
       "4           5                 5           short"
      ]
     },
     "execution_count": 3,
     "metadata": {},
     "output_type": "execute_result"
    }
   ],
   "source": [
    "df.head()"
   ]
  },
  {
   "cell_type": "code",
   "execution_count": 4,
   "id": "63119850",
   "metadata": {},
   "outputs": [],
   "source": [
    "def bucket_session_duration(df, col='duration_minutes'):\n",
    "    bins = [0, 15, 45, 90, float('inf')]\n",
    "    labels = ['short', 'medium', 'long', 'very long']\n",
    "    df['duration_bucket'] = pd.cut(df[col], bins=bins, labels=labels, right=False)\n",
    "    return df"
   ]
  },
  {
   "cell_type": "code",
   "execution_count": 5,
   "id": "b833789b",
   "metadata": {},
   "outputs": [
    {
     "name": "stdout",
     "output_type": "stream",
     "text": [
      "   session_id  duration_minutes duration_bucket\n",
      "0           1                10           short\n",
      "1           2                25          medium\n",
      "2           3                50            long\n",
      "3           4                70            long\n",
      "4           5                 5           short\n"
     ]
    }
   ],
   "source": [
    "print(df)"
   ]
  },
  {
   "cell_type": "code",
   "execution_count": 6,
   "id": "8199e99e",
   "metadata": {},
   "outputs": [
    {
     "data": {
      "text/html": [
       "<div>\n",
       "<style scoped>\n",
       "    .dataframe tbody tr th:only-of-type {\n",
       "        vertical-align: middle;\n",
       "    }\n",
       "\n",
       "    .dataframe tbody tr th {\n",
       "        vertical-align: top;\n",
       "    }\n",
       "\n",
       "    .dataframe thead th {\n",
       "        text-align: right;\n",
       "    }\n",
       "</style>\n",
       "<table border=\"1\" class=\"dataframe\">\n",
       "  <thead>\n",
       "    <tr style=\"text-align: right;\">\n",
       "      <th></th>\n",
       "      <th>session_id</th>\n",
       "      <th>duration_minutes</th>\n",
       "      <th>duration_bucket</th>\n",
       "    </tr>\n",
       "  </thead>\n",
       "  <tbody>\n",
       "    <tr>\n",
       "      <th>0</th>\n",
       "      <td>1</td>\n",
       "      <td>10</td>\n",
       "      <td>short</td>\n",
       "    </tr>\n",
       "    <tr>\n",
       "      <th>1</th>\n",
       "      <td>2</td>\n",
       "      <td>25</td>\n",
       "      <td>medium</td>\n",
       "    </tr>\n",
       "    <tr>\n",
       "      <th>2</th>\n",
       "      <td>3</td>\n",
       "      <td>50</td>\n",
       "      <td>long</td>\n",
       "    </tr>\n",
       "    <tr>\n",
       "      <th>3</th>\n",
       "      <td>4</td>\n",
       "      <td>70</td>\n",
       "      <td>long</td>\n",
       "    </tr>\n",
       "    <tr>\n",
       "      <th>4</th>\n",
       "      <td>5</td>\n",
       "      <td>5</td>\n",
       "      <td>short</td>\n",
       "    </tr>\n",
       "  </tbody>\n",
       "</table>\n",
       "</div>"
      ],
      "text/plain": [
       "   session_id  duration_minutes duration_bucket\n",
       "0           1                10           short\n",
       "1           2                25          medium\n",
       "2           3                50            long\n",
       "3           4                70            long\n",
       "4           5                 5           short"
      ]
     },
     "execution_count": 6,
     "metadata": {},
     "output_type": "execute_result"
    }
   ],
   "source": [
    "df.head()"
   ]
  },
  {
   "cell_type": "code",
   "execution_count": 7,
   "id": "808fb6a2",
   "metadata": {},
   "outputs": [
    {
     "data": {
      "text/html": [
       "<div>\n",
       "<style scoped>\n",
       "    .dataframe tbody tr th:only-of-type {\n",
       "        vertical-align: middle;\n",
       "    }\n",
       "\n",
       "    .dataframe tbody tr th {\n",
       "        vertical-align: top;\n",
       "    }\n",
       "\n",
       "    .dataframe thead th {\n",
       "        text-align: right;\n",
       "    }\n",
       "</style>\n",
       "<table border=\"1\" class=\"dataframe\">\n",
       "  <thead>\n",
       "    <tr style=\"text-align: right;\">\n",
       "      <th></th>\n",
       "      <th>session_id</th>\n",
       "      <th>duration_minutes</th>\n",
       "      <th>duration_bucket</th>\n",
       "    </tr>\n",
       "  </thead>\n",
       "  <tbody>\n",
       "    <tr>\n",
       "      <th>0</th>\n",
       "      <td>1</td>\n",
       "      <td>10</td>\n",
       "      <td>short</td>\n",
       "    </tr>\n",
       "    <tr>\n",
       "      <th>1</th>\n",
       "      <td>2</td>\n",
       "      <td>25</td>\n",
       "      <td>medium</td>\n",
       "    </tr>\n",
       "    <tr>\n",
       "      <th>2</th>\n",
       "      <td>3</td>\n",
       "      <td>50</td>\n",
       "      <td>long</td>\n",
       "    </tr>\n",
       "    <tr>\n",
       "      <th>3</th>\n",
       "      <td>4</td>\n",
       "      <td>70</td>\n",
       "      <td>long</td>\n",
       "    </tr>\n",
       "    <tr>\n",
       "      <th>4</th>\n",
       "      <td>5</td>\n",
       "      <td>5</td>\n",
       "      <td>short</td>\n",
       "    </tr>\n",
       "  </tbody>\n",
       "</table>\n",
       "</div>"
      ],
      "text/plain": [
       "   session_id  duration_minutes duration_bucket\n",
       "0           1                10           short\n",
       "1           2                25          medium\n",
       "2           3                50            long\n",
       "3           4                70            long\n",
       "4           5                 5           short"
      ]
     },
     "execution_count": 7,
     "metadata": {},
     "output_type": "execute_result"
    }
   ],
   "source": [
    "df.tail()"
   ]
  },
  {
   "cell_type": "code",
   "execution_count": 8,
   "id": "da9d7521",
   "metadata": {},
   "outputs": [
    {
     "name": "stdout",
     "output_type": "stream",
     "text": [
      "<class 'pandas.core.frame.DataFrame'>\n",
      "RangeIndex: 5 entries, 0 to 4\n",
      "Data columns (total 3 columns):\n",
      " #   Column            Non-Null Count  Dtype   \n",
      "---  ------            --------------  -----   \n",
      " 0   session_id        5 non-null      int64   \n",
      " 1   duration_minutes  5 non-null      int64   \n",
      " 2   duration_bucket   5 non-null      category\n",
      "dtypes: category(1), int64(2)\n",
      "memory usage: 421.0 bytes\n"
     ]
    }
   ],
   "source": [
    "df.info()"
   ]
  },
  {
   "cell_type": "code",
   "execution_count": 9,
   "id": "254fc541",
   "metadata": {},
   "outputs": [
    {
     "data": {
      "text/html": [
       "<div>\n",
       "<style scoped>\n",
       "    .dataframe tbody tr th:only-of-type {\n",
       "        vertical-align: middle;\n",
       "    }\n",
       "\n",
       "    .dataframe tbody tr th {\n",
       "        vertical-align: top;\n",
       "    }\n",
       "\n",
       "    .dataframe thead th {\n",
       "        text-align: right;\n",
       "    }\n",
       "</style>\n",
       "<table border=\"1\" class=\"dataframe\">\n",
       "  <thead>\n",
       "    <tr style=\"text-align: right;\">\n",
       "      <th></th>\n",
       "      <th>session_id</th>\n",
       "      <th>duration_minutes</th>\n",
       "    </tr>\n",
       "  </thead>\n",
       "  <tbody>\n",
       "    <tr>\n",
       "      <th>count</th>\n",
       "      <td>5.000000</td>\n",
       "      <td>5.000000</td>\n",
       "    </tr>\n",
       "    <tr>\n",
       "      <th>mean</th>\n",
       "      <td>3.000000</td>\n",
       "      <td>32.000000</td>\n",
       "    </tr>\n",
       "    <tr>\n",
       "      <th>std</th>\n",
       "      <td>1.581139</td>\n",
       "      <td>27.522718</td>\n",
       "    </tr>\n",
       "    <tr>\n",
       "      <th>min</th>\n",
       "      <td>1.000000</td>\n",
       "      <td>5.000000</td>\n",
       "    </tr>\n",
       "    <tr>\n",
       "      <th>25%</th>\n",
       "      <td>2.000000</td>\n",
       "      <td>10.000000</td>\n",
       "    </tr>\n",
       "    <tr>\n",
       "      <th>50%</th>\n",
       "      <td>3.000000</td>\n",
       "      <td>25.000000</td>\n",
       "    </tr>\n",
       "    <tr>\n",
       "      <th>75%</th>\n",
       "      <td>4.000000</td>\n",
       "      <td>50.000000</td>\n",
       "    </tr>\n",
       "    <tr>\n",
       "      <th>max</th>\n",
       "      <td>5.000000</td>\n",
       "      <td>70.000000</td>\n",
       "    </tr>\n",
       "  </tbody>\n",
       "</table>\n",
       "</div>"
      ],
      "text/plain": [
       "       session_id  duration_minutes\n",
       "count    5.000000          5.000000\n",
       "mean     3.000000         32.000000\n",
       "std      1.581139         27.522718\n",
       "min      1.000000          5.000000\n",
       "25%      2.000000         10.000000\n",
       "50%      3.000000         25.000000\n",
       "75%      4.000000         50.000000\n",
       "max      5.000000         70.000000"
      ]
     },
     "execution_count": 9,
     "metadata": {},
     "output_type": "execute_result"
    }
   ],
   "source": [
    "df.describe()"
   ]
  },
  {
   "cell_type": "code",
   "execution_count": 11,
   "id": "e83fe259",
   "metadata": {},
   "outputs": [
    {
     "data": {
      "text/plain": [
       "Index(['session_id', 'duration_minutes', 'duration_bucket'], dtype='object')"
      ]
     },
     "execution_count": 11,
     "metadata": {},
     "output_type": "execute_result"
    }
   ],
   "source": [
    "df.columns"
   ]
  },
  {
   "cell_type": "code",
   "execution_count": 12,
   "id": "87fd25a1",
   "metadata": {},
   "outputs": [
    {
     "data": {
      "text/plain": [
       "(5, 3)"
      ]
     },
     "execution_count": 12,
     "metadata": {},
     "output_type": "execute_result"
    }
   ],
   "source": [
    "df.shape"
   ]
  },
  {
   "cell_type": "code",
   "execution_count": 13,
   "id": "9311fa1d",
   "metadata": {},
   "outputs": [
    {
     "data": {
      "text/plain": [
       "RangeIndex(start=0, stop=5, step=1)"
      ]
     },
     "execution_count": 13,
     "metadata": {},
     "output_type": "execute_result"
    }
   ],
   "source": [
    "df.index"
   ]
  },
  {
   "cell_type": "code",
   "execution_count": 14,
   "id": "3c515ffb",
   "metadata": {},
   "outputs": [
    {
     "data": {
      "text/plain": [
       "session_id          5\n",
       "duration_minutes    5\n",
       "duration_bucket     3\n",
       "dtype: int64"
      ]
     },
     "execution_count": 14,
     "metadata": {},
     "output_type": "execute_result"
    }
   ],
   "source": [
    "df.nunique()"
   ]
  },
  {
   "cell_type": "code",
   "execution_count": 15,
   "id": "ebdbf3a7",
   "metadata": {},
   "outputs": [
    {
     "data": {
      "text/plain": [
       "session_id  duration_minutes  duration_bucket\n",
       "1           10                short              1\n",
       "2           25                medium             1\n",
       "3           50                long               1\n",
       "4           70                long               1\n",
       "5           5                 short              1\n",
       "Name: count, dtype: int64"
      ]
     },
     "execution_count": 15,
     "metadata": {},
     "output_type": "execute_result"
    }
   ],
   "source": [
    "df.value_counts()"
   ]
  },
  {
   "cell_type": "code",
   "execution_count": 17,
   "id": "64e309e6",
   "metadata": {},
   "outputs": [
    {
     "name": "stdout",
     "output_type": "stream",
     "text": [
      "Defaulting to user installation because normal site-packages is not writeable\n",
      "Collecting seaborn\n",
      "  Downloading seaborn-0.13.2-py3-none-any.whl.metadata (5.4 kB)\n",
      "Requirement already satisfied: numpy!=1.24.0,>=1.20 in c:\\users\\eguen\\appdata\\roaming\\python\\python312\\site-packages (from seaborn) (2.2.6)\n",
      "Requirement already satisfied: pandas>=1.2 in c:\\users\\eguen\\appdata\\roaming\\python\\python312\\site-packages (from seaborn) (2.3.1)\n",
      "Collecting matplotlib!=3.6.1,>=3.4 (from seaborn)\n",
      "  Downloading matplotlib-3.10.5-cp312-cp312-win_amd64.whl.metadata (11 kB)\n",
      "Collecting contourpy>=1.0.1 (from matplotlib!=3.6.1,>=3.4->seaborn)\n",
      "  Downloading contourpy-1.3.3-cp312-cp312-win_amd64.whl.metadata (5.5 kB)\n",
      "Collecting cycler>=0.10 (from matplotlib!=3.6.1,>=3.4->seaborn)\n",
      "  Using cached cycler-0.12.1-py3-none-any.whl.metadata (3.8 kB)\n",
      "Collecting fonttools>=4.22.0 (from matplotlib!=3.6.1,>=3.4->seaborn)\n",
      "  Downloading fonttools-4.59.2-cp312-cp312-win_amd64.whl.metadata (111 kB)\n",
      "Collecting kiwisolver>=1.3.1 (from matplotlib!=3.6.1,>=3.4->seaborn)\n",
      "  Downloading kiwisolver-1.4.9-cp312-cp312-win_amd64.whl.metadata (6.4 kB)\n",
      "Requirement already satisfied: packaging>=20.0 in c:\\users\\eguen\\appdata\\roaming\\python\\python312\\site-packages (from matplotlib!=3.6.1,>=3.4->seaborn) (24.2)\n",
      "Collecting pillow>=8 (from matplotlib!=3.6.1,>=3.4->seaborn)\n",
      "  Downloading pillow-11.3.0-cp312-cp312-win_amd64.whl.metadata (9.2 kB)\n",
      "Collecting pyparsing>=2.3.1 (from matplotlib!=3.6.1,>=3.4->seaborn)\n",
      "  Using cached pyparsing-3.2.3-py3-none-any.whl.metadata (5.0 kB)\n",
      "Requirement already satisfied: python-dateutil>=2.7 in c:\\users\\eguen\\appdata\\roaming\\python\\python312\\site-packages (from matplotlib!=3.6.1,>=3.4->seaborn) (2.9.0.post0)\n",
      "Requirement already satisfied: pytz>=2020.1 in c:\\users\\eguen\\appdata\\roaming\\python\\python312\\site-packages (from pandas>=1.2->seaborn) (2025.2)\n",
      "Requirement already satisfied: tzdata>=2022.7 in c:\\users\\eguen\\appdata\\roaming\\python\\python312\\site-packages (from pandas>=1.2->seaborn) (2025.2)\n",
      "Requirement already satisfied: six>=1.5 in c:\\users\\eguen\\appdata\\roaming\\python\\python312\\site-packages (from python-dateutil>=2.7->matplotlib!=3.6.1,>=3.4->seaborn) (1.17.0)\n",
      "Downloading seaborn-0.13.2-py3-none-any.whl (294 kB)\n",
      "Downloading matplotlib-3.10.5-cp312-cp312-win_amd64.whl (8.1 MB)\n",
      "   ---------------------------------------- 0.0/8.1 MB ? eta -:--:--\n",
      "   ----- ---------------------------------- 1.0/8.1 MB 5.0 MB/s eta 0:00:02\n",
      "   --------------- ------------------------ 3.1/8.1 MB 7.1 MB/s eta 0:00:01\n",
      "   ------------------------ --------------- 5.0/8.1 MB 7.7 MB/s eta 0:00:01\n",
      "   ------------------------------------- -- 7.6/8.1 MB 8.9 MB/s eta 0:00:01\n",
      "   ---------------------------------------- 8.1/8.1 MB 8.4 MB/s eta 0:00:00\n",
      "Downloading contourpy-1.3.3-cp312-cp312-win_amd64.whl (226 kB)\n",
      "Using cached cycler-0.12.1-py3-none-any.whl (8.3 kB)\n",
      "Downloading fonttools-4.59.2-cp312-cp312-win_amd64.whl (2.3 MB)\n",
      "   ---------------------------------------- 0.0/2.3 MB ? eta -:--:--\n",
      "   ------------------------------------- -- 2.1/2.3 MB 11.7 MB/s eta 0:00:01\n",
      "   ---------------------------------------- 2.3/2.3 MB 9.1 MB/s eta 0:00:00\n",
      "Downloading kiwisolver-1.4.9-cp312-cp312-win_amd64.whl (73 kB)\n",
      "Downloading pillow-11.3.0-cp312-cp312-win_amd64.whl (7.0 MB)\n",
      "   ---------------------------------------- 0.0/7.0 MB ? eta -:--:--\n",
      "   ------------ --------------------------- 2.1/7.0 MB 9.8 MB/s eta 0:00:01\n",
      "   ------------------------ --------------- 4.2/7.0 MB 10.1 MB/s eta 0:00:01\n",
      "   ------------------------------------- -- 6.6/7.0 MB 10.3 MB/s eta 0:00:01\n",
      "   ---------------------------------------- 7.0/7.0 MB 9.6 MB/s eta 0:00:00\n",
      "Using cached pyparsing-3.2.3-py3-none-any.whl (111 kB)\n",
      "Installing collected packages: pyparsing, pillow, kiwisolver, fonttools, cycler, contourpy, matplotlib, seaborn\n",
      "\n",
      "   ---------------------------------------- 0/8 [pyparsing]\n",
      "   ---------------------------------------- 0/8 [pyparsing]\n",
      "   ---------------------------------------- 0/8 [pyparsing]\n",
      "   ---------------------------------------- 0/8 [pyparsing]\n",
      "   ----- ---------------------------------- 1/8 [pillow]\n",
      "   ----- ---------------------------------- 1/8 [pillow]\n",
      "   ----- ---------------------------------- 1/8 [pillow]\n",
      "   ----- ---------------------------------- 1/8 [pillow]\n",
      "   ----- ---------------------------------- 1/8 [pillow]\n",
      "   ----- ---------------------------------- 1/8 [pillow]\n",
      "   ----- ---------------------------------- 1/8 [pillow]\n",
      "   ----- ---------------------------------- 1/8 [pillow]\n",
      "   ----- ---------------------------------- 1/8 [pillow]\n",
      "   ----- ---------------------------------- 1/8 [pillow]\n",
      "   ----- ---------------------------------- 1/8 [pillow]\n",
      "   ----- ---------------------------------- 1/8 [pillow]\n",
      "   ----- ---------------------------------- 1/8 [pillow]\n",
      "   ----- ---------------------------------- 1/8 [pillow]\n",
      "   ----- ---------------------------------- 1/8 [pillow]\n",
      "   ----- ---------------------------------- 1/8 [pillow]\n",
      "   ----- ---------------------------------- 1/8 [pillow]\n",
      "   ----- ---------------------------------- 1/8 [pillow]\n",
      "   ----- ---------------------------------- 1/8 [pillow]\n",
      "   ----- ---------------------------------- 1/8 [pillow]\n",
      "   ----- ---------------------------------- 1/8 [pillow]\n",
      "   ----- ---------------------------------- 1/8 [pillow]\n",
      "   ----- ---------------------------------- 1/8 [pillow]\n",
      "   --------------- ------------------------ 3/8 [fonttools]\n",
      "   --------------- ------------------------ 3/8 [fonttools]\n",
      "   --------------- ------------------------ 3/8 [fonttools]\n",
      "   --------------- ------------------------ 3/8 [fonttools]\n",
      "   --------------- ------------------------ 3/8 [fonttools]\n",
      "   --------------- ------------------------ 3/8 [fonttools]\n",
      "   --------------- ------------------------ 3/8 [fonttools]\n",
      "   --------------- ------------------------ 3/8 [fonttools]\n",
      "   --------------- ------------------------ 3/8 [fonttools]\n",
      "   --------------- ------------------------ 3/8 [fonttools]\n",
      "   --------------- ------------------------ 3/8 [fonttools]\n",
      "   --------------- ------------------------ 3/8 [fonttools]\n",
      "   --------------- ------------------------ 3/8 [fonttools]\n",
      "   --------------- ------------------------ 3/8 [fonttools]\n",
      "   --------------- ------------------------ 3/8 [fonttools]\n",
      "   --------------- ------------------------ 3/8 [fonttools]\n",
      "   --------------- ------------------------ 3/8 [fonttools]\n",
      "   --------------- ------------------------ 3/8 [fonttools]\n",
      "   --------------- ------------------------ 3/8 [fonttools]\n",
      "   --------------- ------------------------ 3/8 [fonttools]\n",
      "   --------------- ------------------------ 3/8 [fonttools]\n",
      "   --------------- ------------------------ 3/8 [fonttools]\n",
      "   --------------- ------------------------ 3/8 [fonttools]\n",
      "   --------------- ------------------------ 3/8 [fonttools]\n",
      "   --------------- ------------------------ 3/8 [fonttools]\n",
      "   --------------- ------------------------ 3/8 [fonttools]\n",
      "   --------------- ------------------------ 3/8 [fonttools]\n",
      "   --------------- ------------------------ 3/8 [fonttools]\n",
      "   --------------- ------------------------ 3/8 [fonttools]\n",
      "   --------------- ------------------------ 3/8 [fonttools]\n",
      "   --------------- ------------------------ 3/8 [fonttools]\n",
      "   --------------- ------------------------ 3/8 [fonttools]\n",
      "   --------------- ------------------------ 3/8 [fonttools]\n",
      "   --------------- ------------------------ 3/8 [fonttools]\n",
      "   --------------- ------------------------ 3/8 [fonttools]\n",
      "   --------------- ------------------------ 3/8 [fonttools]\n",
      "   --------------- ------------------------ 3/8 [fonttools]\n",
      "   --------------- ------------------------ 3/8 [fonttools]\n",
      "   --------------- ------------------------ 3/8 [fonttools]\n",
      "   --------------- ------------------------ 3/8 [fonttools]\n",
      "   --------------- ------------------------ 3/8 [fonttools]\n",
      "   --------------- ------------------------ 3/8 [fonttools]\n",
      "   --------------- ------------------------ 3/8 [fonttools]\n",
      "   --------------- ------------------------ 3/8 [fonttools]\n",
      "   --------------- ------------------------ 3/8 [fonttools]\n",
      "   --------------- ------------------------ 3/8 [fonttools]\n",
      "   --------------- ------------------------ 3/8 [fonttools]\n",
      "   --------------- ------------------------ 3/8 [fonttools]\n",
      "   --------------- ------------------------ 3/8 [fonttools]\n",
      "   --------------- ------------------------ 3/8 [fonttools]\n",
      "   --------------- ------------------------ 3/8 [fonttools]\n",
      "   --------------- ------------------------ 3/8 [fonttools]\n",
      "   --------------- ------------------------ 3/8 [fonttools]\n",
      "   --------------- ------------------------ 3/8 [fonttools]\n",
      "   --------------- ------------------------ 3/8 [fonttools]\n",
      "   --------------- ------------------------ 3/8 [fonttools]\n",
      "   --------------- ------------------------ 3/8 [fonttools]\n",
      "   --------------- ------------------------ 3/8 [fonttools]\n",
      "   --------------- ------------------------ 3/8 [fonttools]\n",
      "   --------------- ------------------------ 3/8 [fonttools]\n",
      "   --------------- ------------------------ 3/8 [fonttools]\n",
      "   --------------- ------------------------ 3/8 [fonttools]\n",
      "   --------------- ------------------------ 3/8 [fonttools]\n",
      "   --------------- ------------------------ 3/8 [fonttools]\n",
      "   --------------- ------------------------ 3/8 [fonttools]\n",
      "   --------------- ------------------------ 3/8 [fonttools]\n",
      "   --------------- ------------------------ 3/8 [fonttools]\n",
      "   --------------- ------------------------ 3/8 [fonttools]\n",
      "   --------------- ------------------------ 3/8 [fonttools]\n",
      "   --------------- ------------------------ 3/8 [fonttools]\n",
      "   --------------- ------------------------ 3/8 [fonttools]\n",
      "   --------------- ------------------------ 3/8 [fonttools]\n",
      "   --------------- ------------------------ 3/8 [fonttools]\n",
      "   --------------- ------------------------ 3/8 [fonttools]\n",
      "   --------------- ------------------------ 3/8 [fonttools]\n",
      "   ------------------------- -------------- 5/8 [contourpy]\n",
      "   ------------------------- -------------- 5/8 [contourpy]\n",
      "   ------------------------- -------------- 5/8 [contourpy]\n",
      "   ------------------------------ --------- 6/8 [matplotlib]\n",
      "   ------------------------------ --------- 6/8 [matplotlib]\n",
      "   ------------------------------ --------- 6/8 [matplotlib]\n",
      "   ------------------------------ --------- 6/8 [matplotlib]\n",
      "   ------------------------------ --------- 6/8 [matplotlib]\n",
      "   ------------------------------ --------- 6/8 [matplotlib]\n",
      "   ------------------------------ --------- 6/8 [matplotlib]\n",
      "   ------------------------------ --------- 6/8 [matplotlib]\n",
      "   ------------------------------ --------- 6/8 [matplotlib]\n",
      "   ------------------------------ --------- 6/8 [matplotlib]\n",
      "   ------------------------------ --------- 6/8 [matplotlib]\n",
      "   ------------------------------ --------- 6/8 [matplotlib]\n",
      "   ------------------------------ --------- 6/8 [matplotlib]\n",
      "   ------------------------------ --------- 6/8 [matplotlib]\n",
      "   ------------------------------ --------- 6/8 [matplotlib]\n",
      "   ------------------------------ --------- 6/8 [matplotlib]\n",
      "   ------------------------------ --------- 6/8 [matplotlib]\n",
      "   ------------------------------ --------- 6/8 [matplotlib]\n",
      "   ------------------------------ --------- 6/8 [matplotlib]\n",
      "   ------------------------------ --------- 6/8 [matplotlib]\n",
      "   ------------------------------ --------- 6/8 [matplotlib]\n",
      "   ------------------------------ --------- 6/8 [matplotlib]\n",
      "   ------------------------------ --------- 6/8 [matplotlib]\n",
      "   ------------------------------ --------- 6/8 [matplotlib]\n",
      "   ------------------------------ --------- 6/8 [matplotlib]\n",
      "   ------------------------------ --------- 6/8 [matplotlib]\n",
      "   ------------------------------ --------- 6/8 [matplotlib]\n",
      "   ------------------------------ --------- 6/8 [matplotlib]\n",
      "   ------------------------------ --------- 6/8 [matplotlib]\n",
      "   ------------------------------ --------- 6/8 [matplotlib]\n",
      "   ------------------------------ --------- 6/8 [matplotlib]\n",
      "   ------------------------------ --------- 6/8 [matplotlib]\n",
      "   ------------------------------ --------- 6/8 [matplotlib]\n",
      "   ------------------------------ --------- 6/8 [matplotlib]\n",
      "   ------------------------------ --------- 6/8 [matplotlib]\n",
      "   ------------------------------ --------- 6/8 [matplotlib]\n",
      "   ------------------------------ --------- 6/8 [matplotlib]\n",
      "   ------------------------------ --------- 6/8 [matplotlib]\n",
      "   ------------------------------ --------- 6/8 [matplotlib]\n",
      "   ------------------------------ --------- 6/8 [matplotlib]\n",
      "   ------------------------------ --------- 6/8 [matplotlib]\n",
      "   ------------------------------ --------- 6/8 [matplotlib]\n",
      "   ------------------------------ --------- 6/8 [matplotlib]\n",
      "   ------------------------------ --------- 6/8 [matplotlib]\n",
      "   ------------------------------ --------- 6/8 [matplotlib]\n",
      "   ------------------------------ --------- 6/8 [matplotlib]\n",
      "   ------------------------------ --------- 6/8 [matplotlib]\n",
      "   ------------------------------ --------- 6/8 [matplotlib]\n",
      "   ------------------------------ --------- 6/8 [matplotlib]\n",
      "   ------------------------------ --------- 6/8 [matplotlib]\n",
      "   ------------------------------ --------- 6/8 [matplotlib]\n",
      "   ------------------------------ --------- 6/8 [matplotlib]\n",
      "   ------------------------------ --------- 6/8 [matplotlib]\n",
      "   ------------------------------ --------- 6/8 [matplotlib]\n",
      "   ------------------------------ --------- 6/8 [matplotlib]\n",
      "   ------------------------------ --------- 6/8 [matplotlib]\n",
      "   ------------------------------ --------- 6/8 [matplotlib]\n",
      "   ------------------------------ --------- 6/8 [matplotlib]\n",
      "   ------------------------------ --------- 6/8 [matplotlib]\n",
      "   ------------------------------ --------- 6/8 [matplotlib]\n",
      "   ------------------------------ --------- 6/8 [matplotlib]\n",
      "   ------------------------------ --------- 6/8 [matplotlib]\n",
      "   ------------------------------ --------- 6/8 [matplotlib]\n",
      "   ------------------------------ --------- 6/8 [matplotlib]\n",
      "   ------------------------------ --------- 6/8 [matplotlib]\n",
      "   ------------------------------ --------- 6/8 [matplotlib]\n",
      "   ------------------------------ --------- 6/8 [matplotlib]\n",
      "   ------------------------------ --------- 6/8 [matplotlib]\n",
      "   ------------------------------ --------- 6/8 [matplotlib]\n",
      "   ------------------------------ --------- 6/8 [matplotlib]\n",
      "   ------------------------------ --------- 6/8 [matplotlib]\n",
      "   ------------------------------ --------- 6/8 [matplotlib]\n",
      "   ------------------------------ --------- 6/8 [matplotlib]\n",
      "   ------------------------------ --------- 6/8 [matplotlib]\n",
      "   ------------------------------ --------- 6/8 [matplotlib]\n",
      "   ------------------------------ --------- 6/8 [matplotlib]\n",
      "   ------------------------------ --------- 6/8 [matplotlib]\n",
      "   ----------------------------------- ---- 7/8 [seaborn]\n",
      "   ----------------------------------- ---- 7/8 [seaborn]\n",
      "   ----------------------------------- ---- 7/8 [seaborn]\n",
      "   ----------------------------------- ---- 7/8 [seaborn]\n",
      "   ----------------------------------- ---- 7/8 [seaborn]\n",
      "   ----------------------------------- ---- 7/8 [seaborn]\n",
      "   ----------------------------------- ---- 7/8 [seaborn]\n",
      "   ----------------------------------- ---- 7/8 [seaborn]\n",
      "   ----------------------------------- ---- 7/8 [seaborn]\n",
      "   ----------------------------------- ---- 7/8 [seaborn]\n",
      "   ----------------------------------- ---- 7/8 [seaborn]\n",
      "   ----------------------------------- ---- 7/8 [seaborn]\n",
      "   ---------------------------------------- 8/8 [seaborn]\n",
      "\n",
      "Successfully installed contourpy-1.3.3 cycler-0.12.1 fonttools-4.59.2 kiwisolver-1.4.9 matplotlib-3.10.5 pillow-11.3.0 pyparsing-3.2.3 seaborn-0.13.2\n"
     ]
    },
    {
     "name": "stderr",
     "output_type": "stream",
     "text": [
      "\n",
      "[notice] A new release of pip is available: 25.1.1 -> 25.2\n",
      "[notice] To update, run: C:\\Program Files\\Python312\\python.exe -m pip install --upgrade pip\n"
     ]
    }
   ],
   "source": [
    "!pip install seaborn"
   ]
  }
 ],
 "metadata": {
  "kernelspec": {
   "display_name": "Python 3",
   "language": "python",
   "name": "python3"
  },
  "language_info": {
   "codemirror_mode": {
    "name": "ipython",
    "version": 3
   },
   "file_extension": ".py",
   "mimetype": "text/x-python",
   "name": "python",
   "nbconvert_exporter": "python",
   "pygments_lexer": "ipython3",
   "version": "3.11.4"
  }
 },
 "nbformat": 4,
 "nbformat_minor": 5
}
