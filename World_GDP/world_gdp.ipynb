{
 "cells": [
  {
   "cell_type": "code",
   "execution_count": 1,
   "id": "966f68e7",
   "metadata": {},
   "outputs": [
    {
     "name": "stdout",
     "output_type": "stream",
     "text": [
      "       Country    2020      2021      2022      2023      2024      2025\n",
      "0  Afghanistan   20136   14278.0   14501.0   17248.0       NaN       NaN\n",
      "1      Albania   15271   18086.0   19185.0   23388.0   27259.0   28372.0\n",
      "2      Algeria  164774  185850.0  225709.0  247789.0  264913.0  268885.0\n",
      "3      Andorra    2885    3325.0    3376.0    3786.0    4038.0    4035.0\n",
      "4       Angola   66521   84375.0  142442.0  109764.0  115946.0  113343.0\n"
     ]
    }
   ],
   "source": [
    "import pandas as pd\n",
    "\n",
    "df = pd.read_csv(\"C:/Users/eguen/OneDrive/Desktop/World_GDP.csv\")\n",
    "print(df.head())\n",
    "\n"
   ]
  },
  {
   "cell_type": "code",
   "execution_count": 4,
   "id": "29b98ce6",
   "metadata": {},
   "outputs": [
    {
     "name": "stderr",
     "output_type": "stream",
     "text": [
      "C:\\Users\\eguen\\AppData\\Local\\Temp\\ipykernel_11432\\3029057260.py:1: FutureWarning: Setting an item of incompatible dtype is deprecated and will raise in a future error of pandas. Value '0       20136.0\n",
      "1       15271.0\n",
      "2      164774.0\n",
      "3        2885.0\n",
      "4       66521.0\n",
      "         ...   \n",
      "191    346310.0\n",
      "192     15532.0\n",
      "193     20220.0\n",
      "194     18138.0\n",
      "195     26878.0\n",
      "Name: 2020, Length: 196, dtype: float64' has dtype incompatible with int64, please explicitly cast to a compatible dtype first.\n",
      "  df.iloc[:, 1:7] = df.iloc[:, 1:7].T.ffill().T\n"
     ]
    }
   ],
   "source": [
    "df.iloc[:, 1:7] = df.iloc[:, 1:7].T.ffill().T"
   ]
  },
  {
   "cell_type": "code",
   "execution_count": 5,
   "id": "dd297ce9",
   "metadata": {},
   "outputs": [
    {
     "name": "stdout",
     "output_type": "stream",
     "text": [
      "0      False\n",
      "1      False\n",
      "2      False\n",
      "3      False\n",
      "4      False\n",
      "       ...  \n",
      "191    False\n",
      "192    False\n",
      "193    False\n",
      "194    False\n",
      "195    False\n",
      "Length: 196, dtype: bool\n"
     ]
    }
   ],
   "source": [
    "print(df.isna().any(axis=1))"
   ]
  },
  {
   "cell_type": "code",
   "execution_count": 6,
   "id": "2e68cd36",
   "metadata": {},
   "outputs": [
    {
     "name": "stdout",
     "output_type": "stream",
     "text": [
      "       Country      2020      2021      2022      2023      2024      2025\n",
      "0  Afghanistan   20136.0   14278.0   14501.0   17248.0   17248.0   17248.0\n",
      "1      Albania   15271.0   18086.0   19185.0   23388.0   27259.0   28372.0\n",
      "2      Algeria  164774.0  185850.0  225709.0  247789.0  264913.0  268885.0\n",
      "3      Andorra    2885.0    3325.0    3376.0    3786.0    4038.0    4035.0\n",
      "4       Angola   66521.0   84375.0  142442.0  109764.0  115946.0  113343.0\n"
     ]
    }
   ],
   "source": [
    "print(df.head())"
   ]
  },
  {
   "cell_type": "code",
   "execution_count": 8,
   "id": "2a7a2ac4",
   "metadata": {},
   "outputs": [],
   "source": [
    "import numpy as np\n",
    "df[\"log_2025\"] = np.log(df[\"2025\"])"
   ]
  },
  {
   "cell_type": "code",
   "execution_count": 9,
   "id": "dcd8fa3d",
   "metadata": {},
   "outputs": [],
   "source": [
    "def gdp_category(gdp):\n",
    "    if gdp > 1_000_000:\n",
    "        return \"High\"\n",
    "    elif gdp > 100_000:\n",
    "        return \"Medium\"\n",
    "    else:\n",
    "        return \"Low\"\n",
    "df[\"gdp_tier_2025\"] = df[\"2025\"].apply(gdp_category)"
   ]
  },
  {
   "cell_type": "code",
   "execution_count": 10,
   "id": "ca846796",
   "metadata": {},
   "outputs": [
    {
     "name": "stdout",
     "output_type": "stream",
     "text": [
      "       Country      2020      2021      2022      2023      2024      2025  \\\n",
      "0  Afghanistan   20136.0   14278.0   14501.0   17248.0   17248.0   17248.0   \n",
      "1      Albania   15271.0   18086.0   19185.0   23388.0   27259.0   28372.0   \n",
      "2      Algeria  164774.0  185850.0  225709.0  247789.0  264913.0  268885.0   \n",
      "3      Andorra    2885.0    3325.0    3376.0    3786.0    4038.0    4035.0   \n",
      "4       Angola   66521.0   84375.0  142442.0  109764.0  115946.0  113343.0   \n",
      "\n",
      "    log_2025 gdp_tier_2025  \n",
      "0   9.755451           Low  \n",
      "1  10.253158           Low  \n",
      "2  12.502039        Medium  \n",
      "3   8.302762           Low  \n",
      "4  11.638174        Medium  \n"
     ]
    }
   ],
   "source": [
    "print(df.head())"
   ]
  },
  {
   "cell_type": "code",
   "execution_count": 13,
   "id": "b560aa1a",
   "metadata": {},
   "outputs": [
    {
     "name": "stdout",
     "output_type": "stream",
     "text": [
      "['Country', '2020', '2021', '2022', '2023', '2024', '2025', 'log_2025', 'gdp_tier_2025']\n"
     ]
    }
   ],
   "source": [
    "print(df.columns.tolist())"
   ]
  },
  {
   "cell_type": "code",
   "execution_count": 14,
   "id": "313d7b03",
   "metadata": {},
   "outputs": [],
   "source": [
    "df[\"cagr_2021_2025\"] = ((df[\"2025\"] / df[\"2020\"]) ** (1/5)) - 1"
   ]
  },
  {
   "cell_type": "code",
   "execution_count": 15,
   "id": "353aaa0f",
   "metadata": {},
   "outputs": [],
   "source": [
    "for year in range(2021, 2026):\n",
    "    df[f\"rank_{year}\"] = df[str(year)].rank(ascending=False)"
   ]
  },
  {
   "cell_type": "code",
   "execution_count": 16,
   "id": "2a082e10",
   "metadata": {},
   "outputs": [],
   "source": [
    "decline_flag = []\n",
    "\n",
    "for i in range(1, 6):\n",
    "    prev = str(2019 + i)\n",
    "    curr = str(2020 + i)\n",
    "    decline_flag.append(df[curr] < df[prev])\n",
    "\n",
    "df[\"any_decline\"] = pd.concat(decline_flag, axis=1).any(axis=1)"
   ]
  },
  {
   "cell_type": "code",
   "execution_count": 17,
   "id": "fc416b67",
   "metadata": {},
   "outputs": [],
   "source": [
    "gdp_min = df[\"2025\"].min()\n",
    "gdp_max = df[\"2025\"].max()\n",
    "df[\"norm_2025\"] = (df[\"2025\"] - gdp_min) / (gdp_max - gdp_min)"
   ]
  },
  {
   "cell_type": "code",
   "execution_count": 18,
   "id": "03a2e1a1",
   "metadata": {},
   "outputs": [
    {
     "name": "stdout",
     "output_type": "stream",
     "text": [
      "               count          mean           std\n",
      "gdp_tier_2025                                   \n",
      "High              19  4.791329e+06  7.401181e+06\n",
      "Low              123  2.764788e+04  2.790842e+04\n",
      "Medium            54  3.592450e+05  2.178813e+05\n"
     ]
    }
   ],
   "source": [
    "summary = df.groupby(\"gdp_tier_2025\")[\"2025\"].agg([\"count\", \"mean\", \"std\"])\n",
    "print(summary)"
   ]
  },
  {
   "cell_type": "code",
   "execution_count": 20,
   "id": "f69abefa",
   "metadata": {},
   "outputs": [],
   "source": [
    "df_melted = df.melt(id_vars=\"Country\", value_vars=[str(y) for y in range(2020, 2026)],\n",
    "                    var_name=\"Year\", value_name=\"GDP\")"
   ]
  },
  {
   "cell_type": "code",
   "execution_count": 21,
   "id": "37031a15",
   "metadata": {},
   "outputs": [
    {
     "name": "stdout",
     "output_type": "stream",
     "text": [
      "       Country      2020      2021      2022      2023      2024      2025  \\\n",
      "0  Afghanistan   20136.0   14278.0   14501.0   17248.0   17248.0   17248.0   \n",
      "1      Albania   15271.0   18086.0   19185.0   23388.0   27259.0   28372.0   \n",
      "2      Algeria  164774.0  185850.0  225709.0  247789.0  264913.0  268885.0   \n",
      "3      Andorra    2885.0    3325.0    3376.0    3786.0    4038.0    4035.0   \n",
      "4       Angola   66521.0   84375.0  142442.0  109764.0  115946.0  113343.0   \n",
      "\n",
      "    log_2025 gdp_tier_2025  cagr_2021_2025  rank_2021  rank_2022  rank_2023  \\\n",
      "0   9.755451           Low       -0.030488      135.0      139.0      134.0   \n",
      "1  10.253158           Low        0.131891      126.0      126.0      118.0   \n",
      "2  12.502039        Medium        0.102899       56.0       54.0       54.0   \n",
      "3   8.302762           Low        0.069398      166.0      166.0      165.0   \n",
      "4  11.638174        Medium        0.112467       72.0       60.0       66.0   \n",
      "\n",
      "   rank_2024  rank_2025  any_decline  norm_2025  \n",
      "0      139.0      140.0         True   0.000563  \n",
      "1      115.0      117.0        False   0.000928  \n",
      "2       52.0       51.0        False   0.008812  \n",
      "3      166.0      166.0         True   0.000130  \n",
      "4       68.0       70.0         True   0.003713  \n"
     ]
    }
   ],
   "source": [
    "print(df.head())"
   ]
  },
  {
   "cell_type": "code",
   "execution_count": 22,
   "id": "b73cb800",
   "metadata": {},
   "outputs": [],
   "source": [
    "df.to_csv(\"C:/Users/eguen/OneDrive/Desktop/World_GDP_transformed.csv\", index=False)"
   ]
  },
  {
   "cell_type": "code",
   "execution_count": null,
   "id": "4184616e",
   "metadata": {},
   "outputs": [],
   "source": []
  }
 ],
 "metadata": {
  "kernelspec": {
   "display_name": "Python 3",
   "language": "python",
   "name": "python3"
  },
  "language_info": {
   "codemirror_mode": {
    "name": "ipython",
    "version": 3
   },
   "file_extension": ".py",
   "mimetype": "text/x-python",
   "name": "python",
   "nbconvert_exporter": "python",
   "pygments_lexer": "ipython3",
   "version": "3.11.4"
  }
 },
 "nbformat": 4,
 "nbformat_minor": 5
}
